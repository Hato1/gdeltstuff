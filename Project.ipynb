{
 "cells": [
  {
   "cell_type": "code",
   "execution_count": 1,
   "metadata": {},
   "outputs": [],
   "source": [
    "import pyspark, os\n",
    "from pyspark import SparkConf, SparkContext\n",
    "os.environ[\"PYSPARK_PYTHON\"]=\"python3\"\n",
    "os.environ[\"JAVA_HOME\"]=\"/Library/Java/JavaVirtualMachines/adoptopenjdk-8.jdk/Contents/Home\"\n",
    "\n",
    "\n",
    "#start spark local server\n",
    "import sys, os\n",
    "from operator import add\n",
    "import time\n",
    "\n",
    "os.environ[\"PYSPARK_PYTHON\"]=\"python3\"\n",
    "\n",
    "import pyspark\n",
    "from pyspark import SparkConf, SparkContext\n",
    "\n",
    "#connects our python driver to a local Spark JVM running on the Google Colab server virtual machine\n",
    "try:\n",
    "    conf = SparkConf().setMaster(\"local[*]\").set(\"spark.executor.memory\", \"1g\")\n",
    "    sc = SparkContext(conf = conf)\n",
    "except ValueError:\n",
    "    #it's ok if the server is already started\n",
    "    pass\n",
    "\n",
    "def dbg(x):\n",
    "    \"\"\" A helper function to print debugging information on RDDs \"\"\"\n",
    "    if isinstance(x, pyspark.RDD):\n",
    "        print([(t[0], list(t[1]) if \n",
    "        isinstance(t[1], pyspark.resultiterable.ResultIterable) else t[1])\n",
    "           if isinstance(t, tuple) else t\n",
    "           for t in x.take(100)])\n",
    "    else:\n",
    "        print(x)"
   ]
  },
  {
   "cell_type": "code",
   "execution_count": 2,
   "metadata": {},
   "outputs": [],
   "source": [
    "import itertools\n",
    "from datetime import date, timedelta\n",
    "import datetime as dt\n",
    "import pandas as pd\n",
    "import os\n",
    "import urllib.request\n",
    "from pyspark.sql import SQLContext\n",
    "from pyspark.sql import Row\n",
    "sqlContext = SQLContext(sc)\n",
    "\n",
    "import numpy as np\n",
    "from newspaper import Article\n",
    "import nltk\n",
    "nltk.download('popular', quiet=True)\n",
    "import time"
   ]
  },
  {
   "cell_type": "code",
   "execution_count": 3,
   "metadata": {},
   "outputs": [],
   "source": [
    "# generic functions to pull and write data to disk based on date\n",
    "def get_filename(x):\n",
    "    date = x.strftime('%Y%m%d')\n",
    "    return \"{}_gdeltdata.csv\".format(date)\n",
    "\n",
    "def intofile(filename):\n",
    "    try:\n",
    "        if not os.path.exists(filename):\n",
    "            date = filename.split(\"_\")[0]\n",
    "            startdate = date+\"000000\" #0 hour 0 min 0 sec (start of day)\n",
    "            enddate = date+\"235959\" #23 hour 59 min 59 sec (end of day)\n",
    "            query = queryURLbase + \"&startdatetime=\" + startdate + \"&enddatetime=\" + enddate\n",
    "            with urllib.request.urlopen(query) as testfile, open(filename, 'w') as f:\n",
    "                f.write(testfile.read().decode())\n",
    "    except:\n",
    "        print(\"Error occurred\")\n",
    "\n",
    "#Creates a list of URL's for every day and saves to disk"
   ]
  },
  {
   "cell_type": "code",
   "execution_count": 4,
   "metadata": {},
   "outputs": [],
   "source": [
    "def get_urls(row):\n",
    "    #return row['URL']\n",
    "    return row['URL'], row['Date'][0:10]\n",
    "\n",
    "def write_wget(withid):\n",
    "    url = withid[0][0]\n",
    "    date = withid[0][1]\n",
    "    id = withid[1]\n",
    "    s = 'articles/' + date + \"/\" + str(id) + \".html \" + url\n",
    "    if not os.path.exists('articles/' + date):\n",
    "        os.mkdir('articles/' + date)\n",
    "    if not os.path.exists(os.getcwd()+'/articles/' + date + \"/\" + str(id) + \".html\"):\n",
    "        print(\"wget \" + s)\n",
    "        os.system('wget -O ' + s)\n",
    "    return id,date"
   ]
  },
  {
   "cell_type": "code",
   "execution_count": 5,
   "metadata": {},
   "outputs": [],
   "source": [
    "def output_keywords(id):\n",
    "    try:\n",
    "        filename = \"articles/\"+str(id[1])+\"/\"+str(id[0])+\".html\"\n",
    "        filenameurl = \"file://\"+os.getcwd()+'/'+filename\n",
    "        article = Article(filenameurl)\n",
    "        with open(filename, 'r', errors=\"replace\") as f:\n",
    "            s = f.read()\n",
    "            article.set_html(s)\n",
    "        if not s:\n",
    "            return None\n",
    "        article.parse()\n",
    "        article.nlp()\n",
    "        return sorted([k for k in article.keywords])\n",
    "    except Exception as e:\n",
    "        if str(e)[10:13] == \"dow\":\n",
    "            #404 Empty file\n",
    "            pass\n",
    "        else:\n",
    "            print(\"\\nException: \", id, str(e))\n",
    "        return []"
   ]
  },
  {
   "cell_type": "code",
   "execution_count": 6,
   "metadata": {},
   "outputs": [],
   "source": [
    "#Downloads all data\n",
    "def get_all_keywords(startdate, enddate):\n",
    "    !rm *.csv\n",
    "    #!rm -rf articles #Full wipe?\n",
    "    \n",
    "    #Creates a list of URL's for every day and saves to disk\n",
    "    daterange = sc.parallelize(pd.date_range(startdate,enddate))\n",
    "    #daterange = sc.parallelize(daterange)\n",
    "    dates = daterange.map(get_filename)\n",
    "    dates.foreach(intofile)\n",
    "    \n",
    "    #Loads url list from disk\n",
    "    data_urls = sqlContext.read.option(\"header\", \"true\").csv(dates.collect())\n",
    "    data_urls = data_urls.dropDuplicates(['Title']) #Remove duplicates\n",
    "    #dbg(data_urls)\n",
    "    \n",
    "    #Downloads contents of all urls to disk\n",
    "    if not os.path.exists('articles'):\n",
    "        os.mkdir('articles')   \n",
    "    all_urls = data_urls.rdd.map(get_urls)\n",
    "    withids = all_urls.zipWithUniqueId()    \n",
    "    allids = withids.map(write_wget)\n",
    "    #dbg(allids)\n",
    "    \n",
    "    #All_Keywords is an RDD where each row contains a list of keywords from an individual article\n",
    "    all_keywords = allids.map(output_keywords)\n",
    "    all_keywords = all_keywords.filter(lambda x: x!=None) #Remove empty files (404?)\n",
    "    #dbg(all_keywords)\n",
    "    \n",
    "    return all_keywords"
   ]
  },
  {
   "cell_type": "code",
   "execution_count": null,
   "metadata": {},
   "outputs": [],
   "source": [
    "start_time = time.monotonic() \n",
    "\n",
    "starts = pd.date_range(start='2020-01-19', end='2020 Jun 03', freq=\"7d\")\n",
    "ends = pd.date_range(start='2020-01-25', end='2020 Jun 03', freq=\"7d\")\n",
    "starts = starts.astype(str)\n",
    "ends = ends.astype(str)\n",
    "all_keywords = get_all_keywords(starts[0], ends[0])\n",
    "\n",
    "len_all_articles = all_keywords.count()\n",
    "support = 0.02 * len_all_articles\n",
    "\n",
    "all_keywordsflat = all_keywords.flatMap(lambda x: [(i,1) for i in x])\n",
    "counts = all_keywordsflat.reduceByKey(lambda a, b: a + b).sortBy(lambda x: x[1], False)\n",
    "counts = counts.filter(lambda x: x[1] > support)\n",
    "\n",
    "keywords = counts.map(lambda x: x[0]).collect()\n",
    "\n",
    "\n",
    "end_time = time.monotonic()\n",
    "print(\"processing took \",end_time-start_time)"
   ]
  },
  {
   "cell_type": "code",
   "execution_count": 7,
   "metadata": {},
   "outputs": [],
   "source": [
    "#Creates a bloom filter for effeciently checking if an item is in keywords\n",
    "def get_bloom(keywords):\n",
    "    from bloom_filter import BloomFilter\n",
    "    bloom = BloomFilter(max_elements=len(keywords), error_rate=0.01)\n",
    "    for word in keywords:\n",
    "        if word != \"coronavirus\" and word != \"covid19\":\n",
    "            bloom.add(word)\n",
    "    return bloom"
   ]
  },
  {
   "cell_type": "code",
   "execution_count": 95,
   "metadata": {},
   "outputs": [
    {
     "name": "stdout",
     "output_type": "stream",
     "text": [
      "processing took  11.498286017998907\n"
     ]
    }
   ],
   "source": [
    "start_time = time.monotonic() \n",
    "\n",
    "bloom = keywords \n",
    "#bloom = get_bloom(keywords) #comment out to not use the bloom filter\n",
    "\n",
    "#Creates all keyword pairs that exist within keywords. This works as each element of all_keywords is sorted, there must be a faster way but pyspark can't hash sets.\n",
    "keypairs = all_keywords.flatMap(lambda x: [(j,1) for j in itertools.combinations([i for i in x if i in bloom], 2)])\n",
    "\n",
    "keypaircounts = keypairs.reduceByKey(lambda a, b: a + b) \\\n",
    "                        .filter(lambda x: x[1] > support) \\\n",
    "                        .sortBy(lambda x: x[1], False)\n",
    "\n",
    "end_time = time.monotonic()\n",
    "print(\"processing took \",end_time-start_time)"
   ]
  },
  {
   "cell_type": "code",
   "execution_count": 8,
   "metadata": {},
   "outputs": [],
   "source": [
    "def confscore(s, countlook):\n",
    "    a = [s[0],       s[1]/countlook[s[0][0]]]\n",
    "    b = [s[0][::-1], s[1]/countlook[s[0][1]]]\n",
    "    #lift = [s[0],       (s[1] / len_all_articles)/(  (countlook[s[0][0]]/len_all_articles)  *  (countlook[s[0][1]]/len_all_articles)  )]\n",
    "    return (a,b)\n",
    "    #return [lift]\n"
   ]
  },
  {
   "cell_type": "code",
   "execution_count": 109,
   "metadata": {},
   "outputs": [],
   "source": [
    "#countlook = dict(counts.collect())\n",
    "conf = keypaircounts.flatMap(confscore).sortBy(lambda x: x[1], False)\n",
    "interest = conf.map(lambda s: [s[0], abs(s[1] - countlook[s[0][1]]/len_all_articles)]).sortBy(lambda x: x[1], False)\n"
   ]
  },
  {
   "cell_type": "code",
   "execution_count": null,
   "metadata": {},
   "outputs": [],
   "source": [
    "def main(sup):\n",
    "    queryURLbase = \"https://api.gdeltproject.org/api/v2/doc/doc?format=csv&query=(covid19%20or%20corona%20or%20coronavirus)%20sourcecountry:NZ%20sourcelang:eng&mode=artlist&maxrecords=250&sort=hybridrel\"\n",
    "    \n",
    "    starts = pd.date_range(start='2020-01-19', end='2020 Jun 03', freq=\"7d\")\n",
    "    ends = pd.date_range(start='2020-01-25', end='2020 Jun 03', freq=\"7d\")\n",
    "    starts = starts.astype(str)\n",
    "    ends = ends.astype(str)\n",
    "    \n",
    "    for i in range(len(ends)):\n",
    "        if not os.path.exists('out/' + starts[i] + '.txt'):\n",
    "            all_keywords = get_all_keywords(starts[i], ends[i])\n",
    "            len_all_articles = all_keywords.count()\n",
    "            support = sup * len_all_articles\n",
    "            #At this point we have downloaded all the data required and just need to manipulate it\n",
    "\n",
    "            start_time = time.monotonic()\n",
    "\n",
    "            all_keywordsflat = all_keywords.flatMap(lambda x: [(i,1) for i in x])\n",
    "            counts = all_keywordsflat.reduceByKey(lambda a, b: a + b).sortBy(lambda x: x[1], False)\n",
    "            counts = counts.filter(lambda x: x[1] > support)\n",
    "            keywords = counts.map(lambda x: x[0]).collect()\n",
    "\n",
    "            bloom = keywords \n",
    "            #bloom = get_bloom(keywords) #comment out to not use the bloom filter\n",
    "\n",
    "            #Creates all keyword pairings. This works as each element of all_keywords is sorted, there must be a faster way but pyspark can't hash sets.\n",
    "            keypairs = all_keywords.flatMap(lambda x: [(j,1) for j in itertools.combinations([i for i in x if i in bloom], 2)])\n",
    "\n",
    "            keypaircounts = keypairs.reduceByKey(lambda a, b: a + b) \\\n",
    "                                    .filter(lambda x: x[1] > support) \\\n",
    "                                    .sortBy(lambda x: x[1], False)\n",
    "\n",
    "            countlook = dict(counts.collect())\n",
    "            conf = keypaircounts.flatMap(lambda x: confscore(x,countlook)).sortBy(lambda x: x[1], False)\n",
    "            interest = conf.map(lambda s: [s[0], abs(s[1] - countlook[s[0][1]]/len_all_articles)]).sortBy(lambda x: x[1], False)\n",
    "\n",
    "            end_time = time.monotonic()\n",
    "            print(\"processing for \"+ starts[i] + \" is\",end_time-start_time)\n",
    "\n",
    "\n",
    "            if not os.path.exists('out'):\n",
    "                os.mkdir('out')\n",
    "            with open('out/' + starts[i] + '.txt', 'w') as file:\n",
    "                for x in interest.collect():\n",
    "                    file.write(x[0][0] + \",\" + x[0][1] + \",\" + str(x[1]) + '\\n')\n",
    "    \n",
    "    \n",
    "    \n",
    "    \n",
    "    \n",
    "main(0.02)\n",
    "    "
   ]
  },
  {
   "cell_type": "code",
   "execution_count": 13,
   "metadata": {},
   "outputs": [],
   "source": [
    "queryURLbase = \"https://api.gdeltproject.org/api/v2/doc/doc?format=csv&query=(covid19%20or%20corona%20or%20coronavirus)%20sourcecountry:NZ%20sourcelang:eng&mode=artlist&maxrecords=250&sort=hybridrel\""
   ]
  },
  {
   "cell_type": "code",
   "execution_count": 27,
   "metadata": {},
   "outputs": [],
   "source": [
    "y = []\n",
    "with open('mank.txt', 'r') as file:\n",
    "    for line in file:\n",
    "        line = line[:-1]\n",
    "        line = line.split(',')\n",
    "        line = [(line[0],line[1]),float(line[2])]\n",
    "        y.append(line)\n",
    "y = sc.parallelize(y)"
   ]
  },
  {
   "cell_type": "code",
   "execution_count": 19,
   "metadata": {},
   "outputs": [
    {
     "data": {
      "image/png": "[encoded data removed]",
      "text/plain": [
       "<Figure size 432x288 with 1 Axes>"
      ]
     },
     "metadata": {
      "needs_background": "light"
     },
     "output_type": "display_data"
    }
   ],
   "source": [
    "import matplotlib.pyplot as plt\n",
    "f = [64,   99,     143,  203,    296,   375,    424]\n",
    "g = [34.22, 39.76, 47.23, 46.65, 56.80, 61.10, 67.71]\n",
    "plt.scatter(f,g)\n",
    "plt.title('Time scaling by article count')\n",
    "plt.xlabel('Articles')\n",
    "plt.ylabel('Seconds')\n",
    "plt.show()"
   ]
  },
  {
   "cell_type": "code",
   "execution_count": 28,
   "metadata": {},
   "outputs": [
    {
     "data": {
      "image/png": "[encoded data removed]",
      "text/plain": [
       "<Figure size 432x288 with 1 Axes>"
      ]
     },
     "metadata": {
      "needs_background": "light"
     },
     "output_type": "display_data"
    }
   ],
   "source": [
    "h = 56.80\n",
    "i = 217.32\n",
    "plt.bar(['* processes','1 process'],[h,i])\n",
    "plt.title(\"Time scaling by processor count\")\n",
    "plt.ylabel('Seconds')\n",
    "plt.show()"
   ]
  },
  {
   "cell_type": "code",
   "execution_count": null,
   "metadata": {},
   "outputs": [],
   "source": []
  }
 ],
 "metadata": {
  "kernelspec": {
   "display_name": "Python 3",
   "language": "python",
   "name": "python3"
  },
  "language_info": {
   "codemirror_mode": {
    "name": "ipython",
    "version": 3
   },
   "file_extension": ".py",
   "mimetype": "text/x-python",
   "name": "python",
   "nbconvert_exporter": "python",
   "pygments_lexer": "ipython3",
   "version": "3.7.2"
  }
 },
 "nbformat": 4,
 "nbformat_minor": 4
}
